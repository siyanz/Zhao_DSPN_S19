{
 "cells": [
  {
   "cell_type": "markdown",
   "metadata": {},
   "source": [
    "# Predicting Attachment Style Based on Linguistic Patterns in Messaging Exchanges"
   ]
  },
  {
   "cell_type": "markdown",
   "metadata": {},
   "source": [
    "### Background\n",
    "Attachment style is...\n",
    "\n",
    "### Variables\n",
    "_Outcome Variable_: Attachment style with 3 subscales, i.e., Depend, Close, and Anxiety.\n",
    "\n",
    "_Predictor Variables_: {mean, standard deviation} aggregated {daily or weekly level} for variables {Message exchange amount, Average word count per message, Positive & negative emotions, Intimacy (family, friends, home, sexual, swears, work, leisure, money, body, religion, and health), Extremity in emotions, Self-disclosure, captured in messages}.\n"
   ]
  },
  {
   "cell_type": "markdown",
   "metadata": {},
   "source": [
    "### Hypothesis\n",
    "\n",
    "**Linear regression**\n",
    "As the dataset only includes data from 23 participants, I may not have the power to examine all variables in the equation. Feature selection algorithms will be used, such as Lasso regression.\n",
    "\n",
    "$ Anxiety = \\beta_{0} + \\beta_{1}\\times PosEmo + \\beta_{2}\\times Intimacy + \\beta_{3}\\times PosNegExtreme + \\beta_{4}\\times MsgCount + \\beta_{5}\\times AvgWordPerMsg$\n",
    "\n",
    "$ Depend = \\beta_{0} + \\beta_{1}\\times PosEmo + \\beta_{2}\\times PosNegExtreme + \\beta_{3}\\times Intimacy + \\beta_{4}\\times SelfDisclose + \\beta_{5}\\times MsgCount + \\beta_{6}\\times AvgWordPerMsg$\n",
    "\n",
    "$ Close = \\beta_{0} + \\beta_{1}\\times PosEmo + \\beta_{2}\\times PosNegExtreme + \\beta_{3}\\times Intimacy + \\beta_{4}\\times SelfDisclose + \\beta_{5}\\times MsgCount + \\beta_{6}\\times AvgWordPerMsg$$\n",
    "\n",
    "- People who evidence a secure attachment style generally hold optimistic views of their relationships and evidence positive views of themselves and others. Therefore, positive emotions will be negatively associated with anxiety score and positively associated with dependent and close scores.\n",
    "- People who evidence a preoccupied (anxious-ambivalent) attachment style express a strong desire for intimacy. Therefore, intimacy will have a positive association with anxiety score.\n",
    "- Preoccupied people also report more intense feelings and emotional highs and lows in their romantic relationships. Therefore, in messages with romantic partners, extremity of positive and negative emotions will positively associate with anxiety score and negatively associate with dependent and close scores.\n",
    "- People who evidence an avoidant attachment style are less likely to seek intimacy. Therefore, intimacy will have a negative association with depend and close.\n",
    "- People who evidence an avoidant attachment style are less likely to disclose personal information. Therefore, self-disclosre will be negatively associated with depend and close.\n",
    "- As anxious people are more likely to seek out confirmation, anxiety score will be positively associated with message exchange amount and average word count per message.\n",
    "- As avoident people are more likely to avoid contact with others, depend and close scores will be negatively associated with message exchange amount and average word count per message.\n"
   ]
  },
  {
   "cell_type": "markdown",
   "metadata": {},
   "source": [
    "### Data Organization\n",
    "Currently, data are organized in two separate files. One file contains the attachment style scores and the other contains linguistic scores for each message exchanged between the participants and their romantic partners, friends, family members, and others. \n",
    "\n",
    "Data cleaning will mainly be done on the second file for messages. First, unrelevant variables will be removed to only leave the predictor variables in the file. \n",
    "\n",
    ": Provide descriptions of Data Architecture (e.g., how is the data organized), Data Cleansing & Tidying, and an example of the final of the Data Table(s) that will go into your analysis.\n"
   ]
  },
  {
   "cell_type": "markdown",
   "metadata": {},
   "source": [
    "### Analysis"
   ]
  },
  {
   "cell_type": "markdown",
   "metadata": {},
   "source": [
    "### Conclusions"
   ]
  },
  {
   "cell_type": "code",
   "execution_count": null,
   "metadata": {},
   "outputs": [],
   "source": []
  }
 ],
 "metadata": {
  "kernelspec": {
   "display_name": "R",
   "language": "R",
   "name": "ir"
  },
  "language_info": {
   "codemirror_mode": "r",
   "file_extension": ".r",
   "mimetype": "text/x-r-source",
   "name": "R",
   "pygments_lexer": "r",
   "version": "3.4.3"
  }
 },
 "nbformat": 4,
 "nbformat_minor": 2
}
